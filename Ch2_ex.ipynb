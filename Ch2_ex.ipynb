{
 "cells": [
  {
   "cell_type": "code",
   "execution_count": 38,
   "metadata": {},
   "outputs": [
    {
     "name": "stdout",
     "output_type": "stream",
     "text": [
      "Prime numbers between 3 and 100: [3, 5, 7, 11, 13, 17, 19, 23, 29, 31, 37, 41, 43, 47, 53, 59, 61, 67, 71, 73, 79, 83, 89, 97]\n"
     ]
    }
   ],
   "source": [
    "# Ex. 2.12 Prime numbers\n",
    "\n",
    "from math import sqrt\n",
    "\n",
    "def prime(n):\n",
    "    if n <= 1:\n",
    "        return False\n",
    "    for i in range(2, int(sqrt(n)) + 1):\n",
    "        if n % i == 0:\n",
    "            return False\n",
    "    return True\n",
    "\n",
    "def find_primes(start, end):\n",
    "    primesVals = []\n",
    "    for k in range(start, end + 1):\n",
    "        if prime(k): \n",
    "            primesVals.append(k)\n",
    "    return primesVals\n",
    "\n",
    "# Example usage:\n",
    "lower_bound = 3\n",
    "upper_bound = 100\n",
    "primos = find_primes(lower_bound, upper_bound)\n",
    "\n",
    "#print(primos)\n",
    "print(f\"Prime numbers between {lower_bound} and {upper_bound}: {primos}\")"
   ]
  },
  {
   "cell_type": "code",
   "execution_count": 51,
   "metadata": {},
   "outputs": [
    {
     "name": "stdin",
     "output_type": "stream",
     "text": [
      "Enter the integer up to calculate the Catalan series:  20\n"
     ]
    },
    {
     "name": "stdout",
     "output_type": "stream",
     "text": [
      "[1]\n",
      "[2]\n",
      "[5]\n",
      "[14]\n",
      "[42]\n",
      "[132]\n",
      "[429]\n",
      "[1430]\n",
      "[4862]\n",
      "[16796]\n",
      "[58786]\n",
      "[208012]\n",
      "[742900]\n",
      "[2674440]\n",
      "[9694845]\n",
      "[35357670]\n",
      "[129644790]\n",
      "[477638700]\n",
      "[1767263190]\n"
     ]
    }
   ],
   "source": [
    "# Ex. 2.13 a) Catalan\n",
    "\n",
    "def catalan(n):\n",
    "    if n==0:\n",
    "        return 1\n",
    "    else:\n",
    "        return (4*n-2)*catalan(n-1)//(n+1)\n",
    "\n",
    "n = int(input('Enter the integer up to calculate the Catalan series: '))    \n",
    "for i in range(1,n):\n",
    "    values = []\n",
    "    values.append(catalan(i))\n",
    "    print(values)"
   ]
  },
  {
   "cell_type": "code",
   "execution_count": 48,
   "metadata": {},
   "outputs": [
    {
     "name": "stdin",
     "output_type": "stream",
     "text": [
      "Enter the first number:  108\n",
      "Enter the second number:  192\n"
     ]
    },
    {
     "name": "stdout",
     "output_type": "stream",
     "text": [
      "The GCD of 108 and 192 is: 12\n"
     ]
    }
   ],
   "source": [
    "# Ex. 2.13 b) GCD\n",
    "\n",
    "def gcd(m,n):\n",
    "    if n<0:\n",
    "        return false\n",
    "    elif n<1:\n",
    "        return m\n",
    "    else:\n",
    "        #k = m%n\n",
    "        return gcd(n,m%n)\n",
    "\n",
    "num1 = int(input('Enter the first number: '))\n",
    "num2 = int(input('Enter the second number: '))\n",
    "\n",
    "print(f\"The GCD of {num1} and {num2} is: {gcd(num1,num2)}\")"
   ]
  },
  {
   "cell_type": "code",
   "execution_count": null,
   "metadata": {},
   "outputs": [],
   "source": []
  }
 ],
 "metadata": {
  "kernelspec": {
   "display_name": "Python 3",
   "language": "python",
   "name": "python3"
  },
  "language_info": {
   "codemirror_mode": {
    "name": "ipython",
    "version": 3
   },
   "file_extension": ".py",
   "mimetype": "text/x-python",
   "name": "python",
   "nbconvert_exporter": "python",
   "pygments_lexer": "ipython3",
   "version": "3.7.6"
  }
 },
 "nbformat": 4,
 "nbformat_minor": 4
}
