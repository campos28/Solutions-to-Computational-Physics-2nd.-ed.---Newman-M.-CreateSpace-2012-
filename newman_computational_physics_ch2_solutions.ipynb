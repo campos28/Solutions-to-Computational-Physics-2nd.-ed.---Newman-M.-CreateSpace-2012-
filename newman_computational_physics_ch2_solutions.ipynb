{
 "cells": [
  {
   "cell_type": "code",
   "execution_count": 1,
   "id": "9fec0477-e80e-49f6-bbe2-b859ab848202",
   "metadata": {},
   "outputs": [
    {
     "name": "stdin",
     "output_type": "stream",
     "text": [
      "Enter the height of the tower in meters:  100\n"
     ]
    },
    {
     "name": "stdout",
     "output_type": "stream",
     "text": [
      "The time the ball takes to hit the ground is: 4.515 s\n"
     ]
    }
   ],
   "source": [
    "# Ex. 2.1: Another ball dropped from a tower \n",
    "\n",
    "from math import sqrt\n",
    "\n",
    "h = float(input(\"Enter the height of the tower in meters: \"))\n",
    "g = 9.81\n",
    "\n",
    "t = sqrt(2*h/g)\n",
    "\n",
    "print(\"The time the ball takes to hit the ground is: {:.3f}\".format(t), \"s\")"
   ]
  },
  {
   "cell_type": "code",
   "execution_count": 2,
   "id": "7b713d5c-f414-480d-bef3-3f9f632a9d6a",
   "metadata": {},
   "outputs": [
    {
     "name": "stdin",
     "output_type": "stream",
     "text": [
      "Enter the period of the satellite in seconds:  300\n"
     ]
    },
    {
     "name": "stdout",
     "output_type": "stream",
     "text": [
      "The height on which you must place your satellite is:-5.403E+06 m\n"
     ]
    }
   ],
   "source": [
    "# Ex. 2.2: Altitud of a satellite \n",
    "\n",
    "from math import pi\n",
    "\n",
    "G = 6.67e-11  # Cavendish's constant in SI\n",
    "M = 5.97e24   # Earth mass in kg\n",
    "R = 6371e3    # Earth radius in m\n",
    "\n",
    "# a) \n",
    "\n",
    "T = float(input(\"Enter the period of the satellite in seconds: \"))\n",
    "h = (G*M*T**2/(4*pi**2))**(1/3) - R\n",
    "print(\"The height on which you must place your satellite is:{0:10.3E}\".format(h), \"m\")\n",
    "\n",
    "# b) and c). Same code but different time conditions."
   ]
  },
  {
   "cell_type": "code",
   "execution_count": 5,
   "id": "cf061918-4d53-493a-a3d2-9a78fa00a93b",
   "metadata": {},
   "outputs": [],
   "source": [
    "# Ex. 2.3: from cartesian to polar coordinates"
   ]
  },
  {
   "cell_type": "code",
   "execution_count": 4,
   "id": "25b0df31-6f64-4748-b940-9131ba3b48e9",
   "metadata": {},
   "outputs": [],
   "source": [
    "# Ex. 2.4: spaceship"
   ]
  },
  {
   "cell_type": "code",
   "execution_count": 11,
   "id": "64530f7b-ded1-4294-9d0f-4f9894597ae5",
   "metadata": {},
   "outputs": [
    {
     "name": "stdout",
     "output_type": "stream",
     "text": [
      "The probability of transmission is 0.7301, and of reflection is 0.2699\n"
     ]
    }
   ],
   "source": [
    "# Ex. 2.5: Quantum potential step\n",
    "\n",
    "from math import sqrt\n",
    "\n",
    "m = 0.5110         # Electron mass in MeV\n",
    "hbar = 4.1356e-9   # Reduced Planck's constant in MeV\n",
    "E = 1e-5           # Incident energy in MeV\n",
    "V = 9e-6           # Potential step in MeV \n",
    "\n",
    "# Entering wave vector\n",
    "k1 = sqrt(2*m*E)/hbar\n",
    "\n",
    "# Exiting wave vector\n",
    "k2 = sqrt(2*m*(E-V))/hbar\n",
    "\n",
    "T = 4*k1*k2/(k1+k2)**2\n",
    "R = ((k1-k2)/(k1+k2))**2\n",
    "\n",
    "print(\"The probability of transmission is {0:.4f},\".format(T), \"and of reflection is {0:.4f}\".format(R))"
   ]
  },
  {
   "cell_type": "code",
   "execution_count": 12,
   "id": "c8cd4d5a-2bae-41e0-a83b-2ef6cfe22076",
   "metadata": {},
   "outputs": [],
   "source": [
    "# Ex. 2.6: Planetary orbits"
   ]
  },
  {
   "cell_type": "code",
   "execution_count": 27,
   "id": "59dfa2f7-274a-41c1-97e1-a4b267ff90e0",
   "metadata": {
    "editable": true,
    "slideshow": {
     "slide_type": ""
    },
    "tags": []
   },
   "outputs": [
    {
     "name": "stdin",
     "output_type": "stream",
     "text": [
      "Enter how many Catalan numbers to compute:  100\n"
     ]
    },
    {
     "name": "stdout",
     "output_type": "stream",
     "text": [
      "Catalan series up to n = 100 :\n",
      " [1, 1, 2, 4, 8, 24, 72, 216, 648, 1944, 5832, 17496, 52488, 157464, 472392, 1417176, 4251528, 12754584, 38263752, 114791256, 344373768, 1033121304, 3099363912, 9298091736, 27894275208, 83682825624, 251048476872, 753145430616, 2259436291848, 6778308875544, 20334926626632, 61004779879896, 183014339639688, 549043018919064, 1647129056757192, 4941387170271576, 14824161510814728, 44472484532444184, 133417453597332552, 400252360791997656, 1200757082375992968, 3602271247127978904, 10806813741383936712, 32420441224151810136, 97261323672455430408, 291783971017366291224, 875351913052098873672, 2626055739156296621016, 7878167217468889863048, 23634501652406669589144, 70903504957220008767432, 212710514871660026302296, 638131544614980078906888, 1914394633844940236720664, 5743183901534820710161992, 17229551704604462130485976, 51688655113813386391457928, 155065965341440159174373784, 465197896024320477523121352, 1395593688072961432569364056, 4186781064218884297708092168, 12560343192656652893124276504, 37681029577969958679372829512, 113043088733909876038118488536, 339129266201729628114355465608, 1017387798605188884343066396824, 3052163395815566653029199190472, 9156490187446699959087597571416, 27469470562340099877262792714248, 82408411687020299631788378142744, 247225235061060898895365134428232, 741675705183182696686095403284696, 2225027115549548090058286209854088, 6675081346648644270174858629562264, 20025244039945932810524575888686792, 60075732119837798431573727666060376, 180227196359513395294721182998181128, 540681589078540185884163548994543384, 1622044767235620557652490646983630152, 4866134301706861672957471940950890456, 14598402905120585018872415822852671368, 43795208715361755056617247468558014104, 131385626146085265169851742405674042312, 394156878438255795509555227217022126936, 1182470635314767386528665681651066380808, 3547411905944302159585997044953199142424, 10642235717832906478757991134859597427272, 31926707153498719436273973404578792281816, 95780121460496158308821920213736376845448, 287340364381488474926465760641209130536344, 862021093144465424779397281923627391609032, 2586063279433396274338191845770882174827096, 7758189838300188823014575537312646524481288, 23274569514900566469043726611937939573443864, 69823708544701699407131179835813818720331592, 209471125634105098221393539507441456160994776, 628413376902315294664180618522324368482984328, 1885240130706945883992541855566973105448952984, 5655720392120837651977625566700919316346858952, 16967161176362512955932876700102757949040576856, 50901483529087538867798630100308273847121730568]\n"
     ]
    }
   ],
   "source": [
    "# Ex. 2.7: Catalan numbers\n",
    "\n",
    "n = int(input(\"Enter how many Catalan numbers to compute: \"))\n",
    "\n",
    "vals = [1]  # C0 = 1\n",
    "\n",
    "for k in range(0, n):\n",
    "    # Recurrence relation: C_{k+1} = ((4k + 2) / (k + 2)) * C_k\n",
    "    next_c = ((4 * k + 2) // (k + 2)) * vals[-1]\n",
    "    vals.append(next_c)\n",
    "\n",
    "print(\"Catalan series up to n =\", n, \":\\n\", vals)"
   ]
  },
  {
   "cell_type": "code",
   "execution_count": 17,
   "id": "024d84b9-93f3-4e4f-8c0f-a04077584016",
   "metadata": {},
   "outputs": [
    {
     "name": "stdout",
     "output_type": "stream",
     "text": [
      "The Madelung constant for sodium chloride is :    -1.742\n"
     ]
    }
   ],
   "source": [
    "# Ex. 2.9: The Madelung constant\n",
    "\n",
    "from math import sqrt\n",
    "\n",
    "L = 100\n",
    "M = 0.0\n",
    "\n",
    "for i in range(-L, L + 1):\n",
    "   for j in range(-L, L + 1):\n",
    "      for k in range(-L, L + 1):\n",
    "         if i == j == k == 0:\n",
    "            continue\n",
    "         M += (-1)**(i+j+k) / sqrt( i*i + j*j + k*k )\n",
    "#print(\"For L =\", L, \"M =\", M)\n",
    "\n",
    "print(\"The Madelung constant for sodium chloride is:{0:10.3f}\".format(M))"
   ]
  },
  {
   "cell_type": "code",
   "execution_count": 55,
   "id": "13427485-bfa2-4928-b828-5966e18ce151",
   "metadata": {},
   "outputs": [
    {
     "name": "stdin",
     "output_type": "stream",
     "text": [
      "Enter the mass number:  58\n",
      "Enter the atomic number:  28\n"
     ]
    },
    {
     "name": "stdout",
     "output_type": "stream",
     "text": [
      "The binding energy is:  4.939E+02 MeV\n"
     ]
    }
   ],
   "source": [
    "# Ex. 2.10: The semi-empirical mass formula \n",
    "\n",
    "#a)\n",
    "\n",
    "a1 = 15.67\n",
    "a2 = 17.23\n",
    "a3 = 0.75\n",
    "a4 = 93.2\n",
    "a5 = 12.0\n",
    "\n",
    "A = int(input(\"Enter the mass number: \"))\n",
    "Z = int(input(\"Enter the atomic number: \"))\n",
    "\n",
    "if A%2==1:\n",
    "    delta = 0\n",
    "    \n",
    "elif A%2==0 and Z%2==0:\n",
    "    delta = a5/A**(0.5)\n",
    "else:\n",
    "    a5 = -a5/A**(0.5)\n",
    "\n",
    "BE = a1*A - a2*A**(2/3) - a3*(Z**2)/A**(1/3) - (a4/A)*(A-2*Z)**2 + delta\n",
    "print(\"The binding energy is: {0:10.3E} MeV\".format(BE))\n",
    "\n",
    "#print(\"The binding energy for that configuration is: {0:10.3E}\".format(B))"
   ]
  },
  {
   "cell_type": "code",
   "execution_count": 56,
   "id": "9ad8be2a-fe3e-4249-ab68-2a7b50cdbe4d",
   "metadata": {},
   "outputs": [
    {
     "name": "stdin",
     "output_type": "stream",
     "text": [
      "Enter the atomic number:  28\n"
     ]
    },
    {
     "name": "stdout",
     "output_type": "stream",
     "text": [
      "\n",
      "For Z = 28, the largest BE is  5.026E+02 MeV, at mass number A = 60\n",
      "Binding energy per nucleon =  8.377E+00 MeV\n"
     ]
    }
   ],
   "source": [
    "# Exercise 2.10 c)\n",
    "\n",
    "a1 = 15.67\n",
    "a2 = 17.23\n",
    "a3 = 0.75\n",
    "a4 = 93.2\n",
    "a5 = 12\n",
    "\n",
    "z = int(input(\"Enter the atomic number: \"))\n",
    "\n",
    "B_values = []  # Store (A, Ba) tuples\n",
    "\n",
    "for A in range(z, 3*z):  # Try different mass numbers A\n",
    "    if A%2==1:\n",
    "        delta = 0\n",
    "    elif A%2==0 and z%2==0:\n",
    "        delta = a5/A**(0.5)\n",
    "    else:\n",
    "        delta = -a5/A**(0.5)\n",
    "        \n",
    "        # Compute total binding energy        \n",
    "    B = a1*A - a2*A**(2/3) - a3*(z**2)/A**(1/3) - (a4/A)*(A-2*z)**2 + delta\n",
    "    B_values.append((A, B))\n",
    "\n",
    "# Find the tuple with the largest binding energy\n",
    "A_max, B_max = max(B_values, key=lambda x: x[1])\n",
    "\n",
    "print(f\"\\nFor Z = {z}, the largest BE is {B_max:10.3E} MeV, at mass number A = {A_max}\")\n",
    "print(f\"Binding energy per nucleon = {B_max/A_max:10.3E} MeV\")"
   ]
  },
  {
   "cell_type": "code",
   "execution_count": 60,
   "id": "ecc9a509-bf61-4f6f-a77c-c1b1b011038c",
   "metadata": {},
   "outputs": [
    {
     "name": "stdout",
     "output_type": "stream",
     "text": [
      "\n",
      "For Z = 1: BE = -5.091E+00 MeV, BE/A = -2.546E+00 MeV\n",
      "\n",
      "For Z = 2: BE =  2.337E+01 MeV, BE/A =  5.843E+00 MeV\n",
      "\n",
      "For Z = 3: BE =  2.980E+01 MeV, BE/A =  4.257E+00 MeV\n",
      "\n",
      "For Z = 4: BE =  5.468E+01 MeV, BE/A =  6.835E+00 MeV\n",
      "\n",
      "For Z = 5: BE =  7.025E+01 MeV, BE/A =  6.386E+00 MeV\n",
      "\n",
      "For Z = 6: BE =  8.980E+01 MeV, BE/A =  6.907E+00 MeV\n",
      "\n",
      "For Z = 7: BE =  1.091E+02 MeV, BE/A =  7.276E+00 MeV\n",
      "\n",
      "For Z = 8: BE =  1.283E+02 MeV, BE/A =  7.548E+00 MeV\n",
      "\n",
      "For Z = 9: BE =  1.474E+02 MeV, BE/A =  7.757E+00 MeV\n",
      "\n",
      "For Z = 10: BE =  1.683E+02 MeV, BE/A =  7.650E+00 MeV\n",
      "\n",
      "For Z = 11: BE =  1.851E+02 MeV, BE/A =  8.048E+00 MeV\n",
      "\n",
      "For Z = 12: BE =  2.078E+02 MeV, BE/A =  7.991E+00 MeV\n",
      "\n",
      "For Z = 13: BE =  2.226E+02 MeV, BE/A =  7.949E+00 MeV\n",
      "\n",
      "For Z = 14: BE =  2.462E+02 MeV, BE/A =  8.207E+00 MeV\n",
      "\n",
      "For Z = 15: BE =  2.618E+02 MeV, BE/A =  7.934E+00 MeV\n",
      "\n",
      "For Z = 16: BE =  2.838E+02 MeV, BE/A =  8.346E+00 MeV\n",
      "\n",
      "For Z = 17: BE =  3.008E+02 MeV, BE/A =  8.129E+00 MeV\n",
      "\n",
      "For Z = 18: BE =  3.206E+02 MeV, BE/A =  8.436E+00 MeV\n",
      "\n",
      "For Z = 19: BE =  3.386E+02 MeV, BE/A =  8.259E+00 MeV\n",
      "\n",
      "For Z = 20: BE =  3.577E+02 MeV, BE/A =  8.129E+00 MeV\n",
      "\n",
      "For Z = 21: BE =  3.755E+02 MeV, BE/A =  8.345E+00 MeV\n",
      "\n",
      "For Z = 22: BE =  3.954E+02 MeV, BE/A =  8.237E+00 MeV\n",
      "\n",
      "For Z = 23: BE =  4.116E+02 MeV, BE/A =  8.399E+00 MeV\n",
      "\n",
      "For Z = 24: BE =  4.320E+02 MeV, BE/A =  8.309E+00 MeV\n",
      "\n",
      "For Z = 25: BE =  4.470E+02 MeV, BE/A =  8.128E+00 MeV\n",
      "\n",
      "For Z = 26: BE =  4.678E+02 MeV, BE/A =  8.353E+00 MeV\n",
      "\n",
      "For Z = 27: BE =  4.835E+02 MeV, BE/A =  8.194E+00 MeV\n",
      "\n",
      "For Z = 28: BE =  5.026E+02 MeV, BE/A =  8.377E+00 MeV\n",
      "\n",
      "For Z = 29: BE =  5.189E+02 MeV, BE/A =  8.237E+00 MeV\n",
      "\n",
      "For Z = 30: BE =  5.367E+02 MeV, BE/A =  8.385E+00 MeV\n",
      "\n",
      "For Z = 31: BE =  5.534E+02 MeV, BE/A =  8.260E+00 MeV\n",
      "\n",
      "For Z = 32: BE =  5.714E+02 MeV, BE/A =  8.163E+00 MeV\n",
      "\n",
      "For Z = 33: BE =  5.871E+02 MeV, BE/A =  8.269E+00 MeV\n",
      "\n",
      "For Z = 34: BE =  6.054E+02 MeV, BE/A =  8.181E+00 MeV\n",
      "\n",
      "For Z = 35: BE =  6.199E+02 MeV, BE/A =  8.265E+00 MeV\n",
      "\n",
      "For Z = 36: BE =  6.386E+02 MeV, BE/A =  8.187E+00 MeV\n",
      "\n",
      "For Z = 37: BE =  6.530E+02 MeV, BE/A =  8.062E+00 MeV\n",
      "\n",
      "For Z = 38: BE =  6.709E+02 MeV, BE/A =  8.181E+00 MeV\n",
      "\n",
      "For Z = 39: BE =  6.857E+02 MeV, BE/A =  8.067E+00 MeV\n",
      "\n",
      "For Z = 40: BE =  7.023E+02 MeV, BE/A =  8.167E+00 MeV\n",
      "\n",
      "For Z = 41: BE =  7.175E+02 MeV, BE/A =  8.062E+00 MeV\n",
      "\n",
      "For Z = 42: BE =  7.339E+02 MeV, BE/A =  7.977E+00 MeV\n",
      "\n",
      "For Z = 43: BE =  7.484E+02 MeV, BE/A =  8.048E+00 MeV\n",
      "\n",
      "For Z = 44: BE =  7.651E+02 MeV, BE/A =  7.969E+00 MeV\n",
      "\n",
      "For Z = 45: BE =  7.786E+02 MeV, BE/A =  8.027E+00 MeV\n",
      "\n",
      "For Z = 46: BE =  7.954E+02 MeV, BE/A =  7.954E+00 MeV\n",
      "\n",
      "For Z = 47: BE =  8.087E+02 MeV, BE/A =  7.851E+00 MeV\n",
      "\n",
      "For Z = 48: BE =  8.250E+02 MeV, BE/A =  7.933E+00 MeV\n",
      "\n",
      "For Z = 49: BE =  8.385E+02 MeV, BE/A =  7.836E+00 MeV\n",
      "\n",
      "For Z = 50: BE =  8.538E+02 MeV, BE/A =  7.906E+00 MeV\n",
      "\n",
      "For Z = 51: BE =  8.675E+02 MeV, BE/A =  7.815E+00 MeV\n",
      "\n",
      "For Z = 52: BE =  8.824E+02 MeV, BE/A =  7.740E+00 MeV\n",
      "\n",
      "For Z = 53: BE =  8.957E+02 MeV, BE/A =  7.789E+00 MeV\n",
      "\n",
      "For Z = 54: BE =  9.108E+02 MeV, BE/A =  7.719E+00 MeV\n",
      "\n",
      "For Z = 55: BE =  9.232E+02 MeV, BE/A =  7.758E+00 MeV\n",
      "\n",
      "For Z = 56: BE =  9.384E+02 MeV, BE/A =  7.692E+00 MeV\n",
      "\n",
      "For Z = 57: BE =  9.504E+02 MeV, BE/A =  7.603E+00 MeV\n",
      "\n",
      "For Z = 58: BE =  9.652E+02 MeV, BE/A =  7.660E+00 MeV\n",
      "\n",
      "For Z = 59: BE =  9.774E+02 MeV, BE/A =  7.577E+00 MeV\n",
      "\n",
      "For Z = 60: BE =  9.913E+02 MeV, BE/A =  7.625E+00 MeV\n",
      "\n",
      "For Z = 61: BE =  1.004E+03 MeV, BE/A =  7.546E+00 MeV\n",
      "\n",
      "For Z = 62: BE =  1.017E+03 MeV, BE/A =  7.479E+00 MeV\n",
      "\n",
      "For Z = 63: BE =  1.029E+03 MeV, BE/A =  7.512E+00 MeV\n",
      "\n",
      "For Z = 64: BE =  1.043E+03 MeV, BE/A =  7.448E+00 MeV\n",
      "\n",
      "For Z = 65: BE =  1.054E+03 MeV, BE/A =  7.475E+00 MeV\n",
      "\n",
      "For Z = 66: BE =  1.068E+03 MeV, BE/A =  7.414E+00 MeV\n",
      "\n",
      "For Z = 67: BE =  1.078E+03 MeV, BE/A =  7.337E+00 MeV\n",
      "\n",
      "For Z = 68: BE =  1.092E+03 MeV, BE/A =  7.377E+00 MeV\n",
      "\n",
      "For Z = 69: BE =  1.103E+03 MeV, BE/A =  7.303E+00 MeV\n",
      "\n",
      "For Z = 70: BE =  1.115E+03 MeV, BE/A =  7.337E+00 MeV\n",
      "\n",
      "For Z = 71: BE =  1.126E+03 MeV, BE/A =  7.266E+00 MeV\n",
      "\n",
      "For Z = 72: BE =  1.138E+03 MeV, BE/A =  7.205E+00 MeV\n",
      "\n",
      "For Z = 73: BE =  1.149E+03 MeV, BE/A =  7.227E+00 MeV\n",
      "\n",
      "For Z = 74: BE =  1.161E+03 MeV, BE/A =  7.169E+00 MeV\n",
      "\n",
      "For Z = 75: BE =  1.171E+03 MeV, BE/A =  7.185E+00 MeV\n",
      "\n",
      "For Z = 76: BE =  1.183E+03 MeV, BE/A =  7.129E+00 MeV\n",
      "\n",
      "For Z = 77: BE =  1.193E+03 MeV, BE/A =  7.060E+00 MeV\n",
      "\n",
      "For Z = 78: BE =  1.205E+03 MeV, BE/A =  7.088E+00 MeV\n",
      "\n",
      "For Z = 79: BE =  1.215E+03 MeV, BE/A =  7.021E+00 MeV\n",
      "\n",
      "For Z = 80: BE =  1.226E+03 MeV, BE/A =  7.044E+00 MeV\n",
      "\n",
      "For Z = 81: BE =  1.236E+03 MeV, BE/A =  6.980E+00 MeV\n",
      "\n",
      "For Z = 82: BE =  1.246E+03 MeV, BE/A =  6.925E+00 MeV\n",
      "\n",
      "For Z = 83: BE =  1.256E+03 MeV, BE/A =  6.938E+00 MeV\n",
      "\n",
      "For Z = 84: BE =  1.267E+03 MeV, BE/A =  6.884E+00 MeV\n",
      "\n",
      "For Z = 85: BE =  1.275E+03 MeV, BE/A =  6.819E+00 MeV\n",
      "\n",
      "For Z = 86: BE =  1.286E+03 MeV, BE/A =  6.841E+00 MeV\n",
      "\n",
      "For Z = 87: BE =  1.295E+03 MeV, BE/A =  6.779E+00 MeV\n",
      "\n",
      "For Z = 88: BE =  1.305E+03 MeV, BE/A =  6.797E+00 MeV\n",
      "\n",
      "For Z = 89: BE =  1.314E+03 MeV, BE/A =  6.737E+00 MeV\n",
      "\n",
      "For Z = 90: BE =  1.323E+03 MeV, BE/A =  6.684E+00 MeV\n",
      "\n",
      "For Z = 91: BE =  1.332E+03 MeV, BE/A =  6.693E+00 MeV\n",
      "\n",
      "For Z = 92: BE =  1.342E+03 MeV, BE/A =  6.642E+00 MeV\n",
      "\n",
      "For Z = 93: BE =  1.349E+03 MeV, BE/A =  6.648E+00 MeV\n",
      "\n",
      "For Z = 94: BE =  1.359E+03 MeV, BE/A =  6.598E+00 MeV\n",
      "\n",
      "For Z = 95: BE =  1.367E+03 MeV, BE/A =  6.539E+00 MeV\n",
      "\n",
      "For Z = 96: BE =  1.376E+03 MeV, BE/A =  6.553E+00 MeV\n",
      "\n",
      "For Z = 97: BE =  1.384E+03 MeV, BE/A =  6.496E+00 MeV\n",
      "\n",
      "For Z = 98: BE =  1.392E+03 MeV, BE/A =  6.507E+00 MeV\n",
      "\n",
      "For Z = 99: BE =  1.400E+03 MeV, BE/A =  6.451E+00 MeV\n",
      "\n",
      "For Z = 100: BE =  1.408E+03 MeV, BE/A =  6.402E+00 MeV\n"
     ]
    }
   ],
   "source": [
    "# Exercise 2.10 d)\n",
    "\n",
    "a1 = 15.67\n",
    "a2 = 17.23\n",
    "a3 = 0.75\n",
    "a4 = 93.2\n",
    "a5 = 12\n",
    "\n",
    "B_values = []  # Store (A, Ba) tuples\n",
    "\n",
    "for z in range(1,101):\n",
    "    for A in range(z,3*z):\n",
    "        if A%2==1:\n",
    "            delta = 0\n",
    "        elif A%2==0 and z%2==0:\n",
    "            delta = a5/A**(0.5)\n",
    "        else:\n",
    "            delta = -a5/A**(0.5)\n",
    "        \n",
    "    # Compute total binding energy        \n",
    "        B = a1*A - a2*A**(2/3) - a3*(z**2)/A**(1/3) - (a4/A)*(A-2*z)**2 + delta\n",
    "        B_values.append((A, B))\n",
    "    # Print the results for each Z\n",
    "    A_max, B_max = max(B_values, key=lambda x: x[1])\n",
    "    print(f\"\\nFor Z = {z}: BE = {B_max:10.3E} MeV, BE/A = {B_max/A_max:10.3E} MeV\")"
   ]
  },
  {
   "cell_type": "code",
   "execution_count": 102,
   "id": "7e22e3a2-cb13-44bc-bc04-ab0aaf54dc79",
   "metadata": {},
   "outputs": [
    {
     "name": "stdout",
     "output_type": "stream",
     "text": [
      "     \n",
      "1     \n",
      "1 1    \n",
      "1 2 1   \n",
      "1 3 3 1  \n",
      "1 4 6 4 1 \n",
      "1 5 10 10 5 1 "
     ]
    }
   ],
   "source": [
    "# Ex 2.11: Binomial coefficients \n",
    "\n",
    "#a)\n",
    "# Function to compute the factorial\n",
    "def factorial(n):\n",
    "    k = 1\n",
    "    fact = 1\n",
    "    while k<=n:\n",
    "        fact *= k \n",
    "        k += 1 \n",
    "    return fact\n",
    "\n",
    "# Function to compute the binomial coefficient\n",
    "def binomial(n,k):\n",
    "    binom = factorial(n)//(factorial(k)*factorial(n-k))\n",
    "    return binom\n",
    "\n",
    "#b)\n",
    "# Function to print out the Pascal triangle\n",
    "def pascal(n):\n",
    "    for i in range(n+1):\n",
    "        print(' '*(n-i), end = '\\n')\n",
    "        for j in range(i+1):\n",
    "            #coef = 1\n",
    "            coef = (binomial(i,j))\n",
    "            print(coef, end=' ')"
   ]
  },
  {
   "cell_type": "code",
   "execution_count": 119,
   "id": "ce7674f9-f854-4175-bec2-268ea3027dd9",
   "metadata": {},
   "outputs": [
    {
     "name": "stdout",
     "output_type": "stream",
     "text": [
      "Probability that a coin tossed 100 times comes up head exactly 60 times is: 1.0844 %\n",
      "Probability that a coin tossed 100 times comes up head 60 or more times is: 44.4599 %\n"
     ]
    }
   ],
   "source": [
    "# Ex 2.11 c)\n",
    "\n",
    "#a)\n",
    "n = 100\n",
    "k = 60\n",
    "print('Probability that a coin tossed', n, 'times comes up head exactly', k ,'times is: {0:.4f}'.format((binomial(n,k)/2**n)*100), '%')\n",
    "\n",
    "#b)\n",
    "\n",
    "prob = 0\n",
    "for i in range(k,n+1):\n",
    "    prob += (binomial(n,k)/2**n)*100\n",
    "print('Probability that a coin tossed', n, 'times comes up head', k ,'or more times is: {0:.4f}'.format(prob), '%')"
   ]
  },
  {
   "cell_type": "code",
   "execution_count": 15,
   "id": "0a97cd51-34a2-4c39-b756-9d0a6da9e32a",
   "metadata": {},
   "outputs": [
    {
     "name": "stdout",
     "output_type": "stream",
     "text": [
      "Prime numbers between 3 and 100: [3, 5, 7, 11, 13, 17, 19, 23, 29, 31, 37, 41, 43, 47, 53, 59, 61, 67, 71, 73, 79, 83, 89, 97]\n"
     ]
    }
   ],
   "source": [
    "# Ex. 2.12: Prime numbers\n",
    "\n",
    "from math import sqrt\n",
    "\n",
    "def prime(n):\n",
    "    if n <= 1:\n",
    "        return False\n",
    "    for i in range(2, int(sqrt(n)) + 1):\n",
    "        if n % i == 0:\n",
    "            return False\n",
    "    return True\n",
    "\n",
    "def find_primes(start, end):\n",
    "    primesVals = []\n",
    "    for k in range(start, end + 1):\n",
    "        if prime(k): \n",
    "            primesVals.append(k)\n",
    "    return primesVals\n",
    "\n",
    "# Example usage:\n",
    "lower_bound = 3\n",
    "upper_bound = 100\n",
    "primos = find_primes(lower_bound, upper_bound)\n",
    "\n",
    "#print(primos)\n",
    "print(f\"Prime numbers between {lower_bound} and {upper_bound}: {primos}\")"
   ]
  },
  {
   "cell_type": "code",
   "execution_count": 13,
   "id": "22d24d7e-fd51-4bd8-9319-4953d23e5a82",
   "metadata": {},
   "outputs": [
    {
     "name": "stdin",
     "output_type": "stream",
     "text": [
      "Enter the integer up to calculate the Catalan series:  10\n"
     ]
    },
    {
     "name": "stdout",
     "output_type": "stream",
     "text": [
      "[1]\n",
      "[2]\n",
      "[5]\n",
      "[14]\n",
      "[42]\n",
      "[132]\n",
      "[429]\n",
      "[1430]\n",
      "[4862]\n"
     ]
    }
   ],
   "source": [
    "# Ex. 2.13: Recursion\n",
    "\n",
    "# a) Catalan numbers\n",
    "\n",
    "def catalan(n):\n",
    "    if n==0:\n",
    "        return 1\n",
    "    else:\n",
    "        return (4*n-2)*catalan(n-1)//(n+1)\n",
    "\n",
    "n = int(input('Enter the integer up to calculate the Catalan series: '))    \n",
    "for i in range(1,n):\n",
    "    values = []\n",
    "    values.append(catalan(i))\n",
    "    print(values)"
   ]
  },
  {
   "cell_type": "code",
   "execution_count": 14,
   "id": "897bda6c-b323-42c2-b97c-b9caf1a9d21c",
   "metadata": {},
   "outputs": [
    {
     "name": "stdin",
     "output_type": "stream",
     "text": [
      "Enter the first number:  108\n",
      "Enter the second number:  192\n"
     ]
    },
    {
     "name": "stdout",
     "output_type": "stream",
     "text": [
      "The GCD of 108 and 192 is: 12\n"
     ]
    }
   ],
   "source": [
    "# Ex. 2.13 b) GCD\n",
    "\n",
    "def gcd(m,n):\n",
    "    if n<0:\n",
    "        return false\n",
    "    elif n<1:\n",
    "        return m\n",
    "    else:\n",
    "        #k = m%n\n",
    "        return gcd(n,m%n)\n",
    "\n",
    "num1 = int(input('Enter the first number: '))\n",
    "num2 = int(input('Enter the second number: '))\n",
    "\n",
    "print(f\"The GCD of {num1} and {num2} is: {gcd(num1,num2)}\")"
   ]
  },
  {
   "cell_type": "code",
   "execution_count": null,
   "id": "15d3c007-ff20-4424-8261-f6cc68e501c4",
   "metadata": {},
   "outputs": [],
   "source": []
  }
 ],
 "metadata": {
  "kernelspec": {
   "display_name": "Python 3 (ipykernel)",
   "language": "python",
   "name": "python3"
  },
  "language_info": {
   "codemirror_mode": {
    "name": "ipython",
    "version": 3
   },
   "file_extension": ".py",
   "mimetype": "text/x-python",
   "name": "python",
   "nbconvert_exporter": "python",
   "pygments_lexer": "ipython3",
   "version": "3.12.4"
  }
 },
 "nbformat": 4,
 "nbformat_minor": 5
}
